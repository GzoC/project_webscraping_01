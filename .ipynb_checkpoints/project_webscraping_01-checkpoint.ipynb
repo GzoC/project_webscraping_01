{
 "cells": [
  {
   "cell_type": "code",
   "execution_count": 1,
   "id": "10192915-de46-41ab-a8c2-6a450a131d40",
   "metadata": {},
   "outputs": [
    {
     "name": "stdout",
     "output_type": "stream",
     "text": [
      "Librerías importadas correctamente.\n"
     ]
    }
   ],
   "source": [
    "# Celda 1: Importación de librerías\n",
    "\n",
    "import requests  # Biblioteca para realizar peticiones HTTP\n",
    "from bs4 import BeautifulSoup  # Clase principal de BeautifulSoup para parsear HTML\n",
    "import pandas as pd  # Biblioteca para la manipulación y análisis de datos\n",
    "import matplotlib.pyplot as plt  # Biblioteca para crear visualizaciones básicas\n",
    "import seaborn as sns  # Biblioteca para visualizaciones más elaboradas sobre matplotlib\n",
    "\n",
    "# Configuración opcional para que los gráficos se muestren dentro del Notebook\n",
    "%matplotlib inline\n",
    "\n",
    "print(\"Librerías importadas correctamente.\")\n"
   ]
  }
 ],
 "metadata": {
  "kernelspec": {
   "display_name": "Python 3 (ipykernel)",
   "language": "python",
   "name": "python3"
  },
  "language_info": {
   "codemirror_mode": {
    "name": "ipython",
    "version": 3
   },
   "file_extension": ".py",
   "mimetype": "text/x-python",
   "name": "python",
   "nbconvert_exporter": "python",
   "pygments_lexer": "ipython3",
   "version": "3.12.7"
  }
 },
 "nbformat": 4,
 "nbformat_minor": 5
}

{
 "cells": [
  {
   "cell_type": "code",
   "execution_count": 1,
   "id": "aec964f9-e1a0-478f-9f9c-16c2cc9961ef",
   "metadata": {},
   "outputs": [
    {
     "name": "stdout",
     "output_type": "stream",
     "text": [
      "Librerías importadas correctamente.\n"
     ]
    }
   ],
   "source": [
    "# Importamos la biblioteca 'requests' para realizar solicitudes HTTP\n",
    "import requests  # Permite enviar peticiones HTTP a un servidor\n",
    "\n",
    "# Importamos 'BeautifulSoup' desde 'bs4' para parsear y navegar por el contenido HTML\n",
    "from bs4 import BeautifulSoup  # Facilita la extracción de información de documentos HTML\n",
    "\n",
    "# Importamos 'pandas' para manipular y analizar datos en estructuras de tipo DataFrame\n",
    "import pandas as pd  # Ofrece herramientas para trabajar con datos estructurados\n",
    "\n",
    "# Importamos 'matplotlib.pyplot' para generar gráficos básicos\n",
    "import matplotlib.pyplot as plt  # Permite crear gráficos y visualizaciones\n",
    "\n",
    "# Importamos 'seaborn' para generar visualizaciones estadísticas más avanzadas sobre matplotlib\n",
    "import seaborn as sns  # Ofrece gráficos de mayor calidad y personalización\n",
    "\n",
    "# Configuramos matplotlib para que los gráficos se muestren directamente en el Notebook.\n",
    "%matplotlib inline\n",
    "\n",
    "# Confirmamos que todas las librerías se han importado correctamente\n",
    "print(\"Librerías importadas correctamente.\")\n"
   ]
  },
  {
   "cell_type": "code",
   "execution_count": 2,
   "id": "9777103b-be3a-4921-a8bd-89206a47a820",
   "metadata": {},
   "outputs": [
    {
     "name": "stdout",
     "output_type": "stream",
     "text": [
      "Petición exitosa. Código de estado: 200\n"
     ]
    }
   ],
   "source": [
    "# Celda 2: Petición HTTP y obtención del HTML\n",
    "\n",
    "# Definimos la URL base que vamos a scrapear\n",
    "url = \"http://books.toscrape.com/\"\n",
    "\n",
    "# Realizamos la petición GET a la URL para obtener la página HTML\n",
    "response = requests.get(url)  # Envía la solicitud y guarda la respuesta en 'response'\n",
    "\n",
    "# Verificamos el código de estado HTTP para asegurarnos de que la solicitud fue exitosa\n",
    "if response.status_code == 200:  # 200 significa éxito\n",
    "    print(\"Petición exitosa. Código de estado:\", response.status_code)\n",
    "    # Guardamos el contenido HTML en una variable\n",
    "    html_content = response.text  # Extrae el contenido en formato texto (HTML)\n",
    "else:\n",
    "    print(\"Error al realizar la petición. Código de estado:\", response.status_code)\n",
    "    html_content = \"\"\n"
   ]
  },
  {
   "cell_type": "code",
   "execution_count": 3,
   "id": "434bb0db-4feb-42c7-9f22-d6fb9d2059bb",
   "metadata": {},
   "outputs": [
    {
     "name": "stdout",
     "output_type": "stream",
     "text": [
      "HTML parseado exitosamente.\n"
     ]
    }
   ],
   "source": [
    "# Celda 3: Parseo del HTML con BeautifulSoup\n",
    "\n",
    "if html_content:  # Verificamos que haya contenido HTML\n",
    "    soup = BeautifulSoup(html_content, \"html.parser\")  # Creamos un objeto BeautifulSoup para parsear\n",
    "    print(\"HTML parseado exitosamente.\")\n",
    "else:\n",
    "    soup = None\n",
    "    print(\"No hay contenido HTML para parsear.\")\n"
   ]
  }
 ],
 "metadata": {
  "kernelspec": {
   "display_name": "Python 3 (ipykernel)",
   "language": "python",
   "name": "python3"
  },
  "language_info": {
   "codemirror_mode": {
    "name": "ipython",
    "version": 3
   },
   "file_extension": ".py",
   "mimetype": "text/x-python",
   "name": "python",
   "nbconvert_exporter": "python",
   "pygments_lexer": "ipython3",
   "version": "3.12.7"
  }
 },
 "nbformat": 4,
 "nbformat_minor": 5
}

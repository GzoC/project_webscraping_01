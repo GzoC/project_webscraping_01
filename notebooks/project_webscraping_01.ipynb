{
 "cells": [
  {
   "cell_type": "code",
   "execution_count": 3,
   "id": "aec964f9-e1a0-478f-9f9c-16c2cc9961ef",
   "metadata": {},
   "outputs": [
    {
     "name": "stdout",
     "output_type": "stream",
     "text": [
      "Librerías importadas correctamente.\n"
     ]
    }
   ],
   "source": [
    "# Importamos la biblioteca 'requests' para realizar solicitudes HTTP\n",
    "import requests  # Permite enviar peticiones HTTP a un servidor\n",
    "\n",
    "# Importamos 'BeautifulSoup' desde 'bs4' para parsear y navegar por el contenido HTML\n",
    "from bs4 import BeautifulSoup  # Facilita la extracción de información de documentos HTML\n",
    "\n",
    "# Importamos 'pandas' para manipular y analizar datos en estructuras de tipo DataFrame\n",
    "import pandas as pd  # Ofrece herramientas para trabajar con datos estructurados\n",
    "\n",
    "# Importamos 'matplotlib.pyplot' para generar gráficos básicos\n",
    "import matplotlib.pyplot as plt  # Permite crear gráficos y visualizaciones\n",
    "\n",
    "# Importamos 'seaborn' para generar visualizaciones estadísticas más avanzadas sobre matplotlib\n",
    "import seaborn as sns  # Ofrece gráficos de mayor calidad y personalización\n",
    "\n",
    "# Configuramos matplotlib para que los gráficos se muestren directamente en el Notebook.\n",
    "%matplotlib inline\n",
    "\n",
    "# Confirmamos que todas las librerías se han importado correctamente\n",
    "print(\"Librerías importadas correctamente.\")\n"
   ]
  },
  {
   "cell_type": "code",
   "execution_count": null,
   "id": "9777103b-be3a-4921-a8bd-89206a47a820",
   "metadata": {},
   "outputs": [],
   "source": []
  }
 ],
 "metadata": {
  "kernelspec": {
   "display_name": "Python 3 (ipykernel)",
   "language": "python",
   "name": "python3"
  },
  "language_info": {
   "codemirror_mode": {
    "name": "ipython",
    "version": 3
   },
   "file_extension": ".py",
   "mimetype": "text/x-python",
   "name": "python",
   "nbconvert_exporter": "python",
   "pygments_lexer": "ipython3",
   "version": "3.12.7"
  }
 },
 "nbformat": 4,
 "nbformat_minor": 5
}

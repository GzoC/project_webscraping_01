{
 "cells": [
  {
   "cell_type": "code",
   "execution_count": 1,
   "id": "aec964f9-e1a0-478f-9f9c-16c2cc9961ef",
   "metadata": {},
   "outputs": [
    {
     "name": "stdout",
     "output_type": "stream",
     "text": [
      "Librerías importadas correctamente.\n"
     ]
    }
   ],
   "source": [
    "# Importamos la biblioteca 'requests' para realizar solicitudes HTTP\n",
    "import requests  # Permite enviar peticiones HTTP a un servidor\n",
    "\n",
    "# Importamos 'BeautifulSoup' desde 'bs4' para parsear y navegar por el contenido HTML\n",
    "from bs4 import BeautifulSoup  # Facilita la extracción de información de documentos HTML\n",
    "\n",
    "# Importamos 'pandas' para manipular y analizar datos en estructuras de tipo DataFrame\n",
    "import pandas as pd  # Ofrece herramientas para trabajar con datos estructurados\n",
    "\n",
    "# Importamos 'matplotlib.pyplot' para generar gráficos básicos\n",
    "import matplotlib.pyplot as plt  # Permite crear gráficos y visualizaciones\n",
    "\n",
    "# Importamos 'seaborn' para generar visualizaciones estadísticas más avanzadas sobre matplotlib\n",
    "import seaborn as sns  # Ofrece gráficos de mayor calidad y personalización\n",
    "\n",
    "# Configuramos matplotlib para que los gráficos se muestren directamente en el Notebook.\n",
    "%matplotlib inline\n",
    "\n",
    "# Confirmamos que todas las librerías se han importado correctamente\n",
    "print(\"Librerías importadas correctamente.\")\n"
   ]
  },
  {
   "cell_type": "code",
   "execution_count": 2,
   "id": "9777103b-be3a-4921-a8bd-89206a47a820",
   "metadata": {},
   "outputs": [
    {
     "name": "stdout",
     "output_type": "stream",
     "text": [
      "Petición exitosa. Código de estado: 200\n"
     ]
    }
   ],
   "source": [
    "# Celda 2: Petición HTTP y obtención del HTML\n",
    "\n",
    "# Definimos la URL base que vamos a scrapear\n",
    "url = \"http://books.toscrape.com/\"\n",
    "\n",
    "# Realizamos la petición GET a la URL para obtener la página HTML\n",
    "response = requests.get(url)  # Envía la solicitud y guarda la respuesta en 'response'\n",
    "\n",
    "# Verificamos el código de estado HTTP para asegurarnos de que la solicitud fue exitosa\n",
    "if response.status_code == 200:  # 200 significa éxito\n",
    "    print(\"Petición exitosa. Código de estado:\", response.status_code)\n",
    "    # Guardamos el contenido HTML en una variable\n",
    "    html_content = response.text  # Extrae el contenido en formato texto (HTML)\n",
    "else:\n",
    "    print(\"Error al realizar la petición. Código de estado:\", response.status_code)\n",
    "    html_content = \"\"\n"
   ]
  },
  {
   "cell_type": "code",
   "execution_count": 3,
   "id": "434bb0db-4feb-42c7-9f22-d6fb9d2059bb",
   "metadata": {},
   "outputs": [
    {
     "name": "stdout",
     "output_type": "stream",
     "text": [
      "HTML parseado exitosamente.\n"
     ]
    }
   ],
   "source": [
    "# Celda 3: Parseo del HTML con BeautifulSoup\n",
    "\n",
    "if html_content:  # Verificamos que haya contenido HTML\n",
    "    soup = BeautifulSoup(html_content, \"html.parser\")  # Creamos un objeto BeautifulSoup para parsear\n",
    "    print(\"HTML parseado exitosamente.\")\n",
    "else:\n",
    "    soup = None\n",
    "    print(\"No hay contenido HTML para parsear.\")\n"
   ]
  },
  {
   "cell_type": "code",
   "execution_count": 4,
   "id": "e211ea0e-8b29-402c-a5e4-009aa91c1017",
   "metadata": {},
   "outputs": [
    {
     "name": "stdout",
     "output_type": "stream",
     "text": [
      "Datos extraídos correctamente de 20 libros.\n"
     ]
    }
   ],
   "source": [
    "# Inicializamos listas vacías para almacenar la información extraída de cada libro\n",
    "book_titles = []          # Almacenará los títulos de los libros\n",
    "book_prices = []          # Almacenará los precios\n",
    "book_availabilities = []  # Almacenará la información de disponibilidad (ej. 'In stock')\n",
    "book_ratings = []         # Almacenará la calificación (rating) en texto\n",
    "\n",
    "if soup:\n",
    "    # Buscamos todos los elementos <article> con la clase 'product_pod'\n",
    "    book_containers = soup.find_all(\"article\", class_=\"product_pod\")\n",
    "    \n",
    "    # Iteramos por cada contenedor de libro encontrado\n",
    "    for container in book_containers:\n",
    "        # --- Extracción del título ---\n",
    "        # El título se encuentra en el atributo 'title' de la etiqueta <a> dentro de <h3>\n",
    "        title_tag = container.find(\"h3\").find(\"a\")  # Navega hasta la etiqueta <a>\n",
    "        title = title_tag[\"title\"] if title_tag else \"Título no encontrado\"  # Extrae el título\n",
    "        \n",
    "        # --- Extracción del precio ---\n",
    "        # El precio se halla en una etiqueta <p> con la clase 'price_color'\n",
    "        price_tag = container.find(\"p\", class_=\"price_color\")\n",
    "        price_text = price_tag.text if price_tag else \"0\"  # Extrae el texto del precio\n",
    "        \n",
    "        # Limpiar el texto del precio:\n",
    "        # Se elimina el símbolo de la libra (£) y se elimina el carácter \"Â\" que causa problemas de conversión.\n",
    "        price_text_clean = price_text.replace(\"£\", \"\").replace(\"Â\", \"\").strip()\n",
    "        try:\n",
    "            # Se intenta convertir el precio limpio a un número flotante\n",
    "            price_value = float(price_text_clean)\n",
    "        except ValueError:\n",
    "            # En caso de error, se asigna 0.0 al precio\n",
    "            price_value = 0.0\n",
    "        \n",
    "        # --- Extracción de la disponibilidad ---\n",
    "        # La disponibilidad se encuentra en una etiqueta <p> con la clase 'instock availability'\n",
    "        availability_tag = container.find(\"p\", class_=\"instock availability\")\n",
    "        # Se utiliza .strip() para eliminar espacios y saltos de línea\n",
    "        availability_text = availability_tag.text.strip() if availability_tag else \"No info\"\n",
    "        \n",
    "        # --- Extracción de la calificación (rating) ---\n",
    "        # La calificación se indica en la clase del <p class=\"star-rating X\">\n",
    "        rating_tag = container.find(\"p\", class_=\"star-rating\")\n",
    "        if rating_tag and \"class\" in rating_tag.attrs:\n",
    "            # Se obtienen las clases asignadas, ej: [\"star-rating\", \"Three\"]\n",
    "            rating_classes = rating_tag[\"class\"]\n",
    "            # Se asume que la segunda clase representa la calificación\n",
    "            rating = rating_classes[1] if len(rating_classes) > 1 else \"No rating\"\n",
    "        else:\n",
    "            rating = \"No rating\"\n",
    "        \n",
    "        # Se agregan los datos extraídos a las listas correspondientes\n",
    "        book_titles.append(title)\n",
    "        book_prices.append(price_value)\n",
    "        book_availabilities.append(availability_text)\n",
    "        book_ratings.append(rating)\n",
    "    \n",
    "    print(\"Datos extraídos correctamente de\", len(book_containers), \"libros.\")\n",
    "else:\n",
    "    print(\"No se pudo extraer datos ya que 'soup' es None.\")\n",
    "\n",
    "\n"
   ]
  },
  {
   "cell_type": "code",
   "execution_count": 5,
   "id": "849b9e62-e640-499c-9c91-a258dcacf307",
   "metadata": {},
   "outputs": [
    {
     "name": "stdout",
     "output_type": "stream",
     "text": [
      "DataFrame creado con éxito. Número total de libros: 20\n"
     ]
    },
    {
     "data": {
      "text/html": [
       "<div>\n",
       "<style scoped>\n",
       "    .dataframe tbody tr th:only-of-type {\n",
       "        vertical-align: middle;\n",
       "    }\n",
       "\n",
       "    .dataframe tbody tr th {\n",
       "        vertical-align: top;\n",
       "    }\n",
       "\n",
       "    .dataframe thead th {\n",
       "        text-align: right;\n",
       "    }\n",
       "</style>\n",
       "<table border=\"1\" class=\"dataframe\">\n",
       "  <thead>\n",
       "    <tr style=\"text-align: right;\">\n",
       "      <th></th>\n",
       "      <th>title</th>\n",
       "      <th>price</th>\n",
       "      <th>availability</th>\n",
       "      <th>rating</th>\n",
       "    </tr>\n",
       "  </thead>\n",
       "  <tbody>\n",
       "    <tr>\n",
       "      <th>0</th>\n",
       "      <td>A Light in the Attic</td>\n",
       "      <td>51.77</td>\n",
       "      <td>In stock</td>\n",
       "      <td>Three</td>\n",
       "    </tr>\n",
       "    <tr>\n",
       "      <th>1</th>\n",
       "      <td>Tipping the Velvet</td>\n",
       "      <td>53.74</td>\n",
       "      <td>In stock</td>\n",
       "      <td>One</td>\n",
       "    </tr>\n",
       "    <tr>\n",
       "      <th>2</th>\n",
       "      <td>Soumission</td>\n",
       "      <td>50.10</td>\n",
       "      <td>In stock</td>\n",
       "      <td>One</td>\n",
       "    </tr>\n",
       "    <tr>\n",
       "      <th>3</th>\n",
       "      <td>Sharp Objects</td>\n",
       "      <td>47.82</td>\n",
       "      <td>In stock</td>\n",
       "      <td>Four</td>\n",
       "    </tr>\n",
       "    <tr>\n",
       "      <th>4</th>\n",
       "      <td>Sapiens: A Brief History of Humankind</td>\n",
       "      <td>54.23</td>\n",
       "      <td>In stock</td>\n",
       "      <td>Five</td>\n",
       "    </tr>\n",
       "  </tbody>\n",
       "</table>\n",
       "</div>"
      ],
      "text/plain": [
       "                                   title  price availability rating\n",
       "0                   A Light in the Attic  51.77     In stock  Three\n",
       "1                     Tipping the Velvet  53.74     In stock    One\n",
       "2                             Soumission  50.10     In stock    One\n",
       "3                          Sharp Objects  47.82     In stock   Four\n",
       "4  Sapiens: A Brief History of Humankind  54.23     In stock   Five"
      ]
     },
     "execution_count": 5,
     "metadata": {},
     "output_type": "execute_result"
    }
   ],
   "source": [
    "# Se crea un diccionario en el que cada clave representa una columna y su valor es la lista de datos\n",
    "data_dict = {\n",
    "    \"title\": book_titles,           # Columna con los títulos de los libros\n",
    "    \"price\": book_prices,           # Columna con los precios\n",
    "    \"availability\": book_availabilities,  # Columna con la disponibilidad\n",
    "    \"rating\": book_ratings          # Columna con las calificaciones en texto\n",
    "}\n",
    "\n",
    "# Se convierte el diccionario en un DataFrame de pandas para facilitar el análisis\n",
    "books_df = pd.DataFrame(data_dict)\n",
    "\n",
    "print(\"DataFrame creado con éxito. Número total de libros:\", len(books_df))\n",
    "# Muestra las primeras 5 filas del DataFrame para verificar la correcta extracción de datos\n",
    "books_df.head()\n"
   ]
  },
  {
   "cell_type": "code",
   "execution_count": 6,
   "id": "84556ed8-c04c-4417-b8bc-9af59c85c8fc",
   "metadata": {},
   "outputs": [
    {
     "name": "stdout",
     "output_type": "stream",
     "text": [
      "Se ha añadido la columna 'rating_num' con valores numéricos de calificación.\n"
     ]
    },
    {
     "data": {
      "text/html": [
       "<div>\n",
       "<style scoped>\n",
       "    .dataframe tbody tr th:only-of-type {\n",
       "        vertical-align: middle;\n",
       "    }\n",
       "\n",
       "    .dataframe tbody tr th {\n",
       "        vertical-align: top;\n",
       "    }\n",
       "\n",
       "    .dataframe thead th {\n",
       "        text-align: right;\n",
       "    }\n",
       "</style>\n",
       "<table border=\"1\" class=\"dataframe\">\n",
       "  <thead>\n",
       "    <tr style=\"text-align: right;\">\n",
       "      <th></th>\n",
       "      <th>title</th>\n",
       "      <th>price</th>\n",
       "      <th>availability</th>\n",
       "      <th>rating</th>\n",
       "      <th>rating_num</th>\n",
       "    </tr>\n",
       "  </thead>\n",
       "  <tbody>\n",
       "    <tr>\n",
       "      <th>0</th>\n",
       "      <td>A Light in the Attic</td>\n",
       "      <td>51.77</td>\n",
       "      <td>In stock</td>\n",
       "      <td>Three</td>\n",
       "      <td>3</td>\n",
       "    </tr>\n",
       "    <tr>\n",
       "      <th>1</th>\n",
       "      <td>Tipping the Velvet</td>\n",
       "      <td>53.74</td>\n",
       "      <td>In stock</td>\n",
       "      <td>One</td>\n",
       "      <td>1</td>\n",
       "    </tr>\n",
       "    <tr>\n",
       "      <th>2</th>\n",
       "      <td>Soumission</td>\n",
       "      <td>50.10</td>\n",
       "      <td>In stock</td>\n",
       "      <td>One</td>\n",
       "      <td>1</td>\n",
       "    </tr>\n",
       "    <tr>\n",
       "      <th>3</th>\n",
       "      <td>Sharp Objects</td>\n",
       "      <td>47.82</td>\n",
       "      <td>In stock</td>\n",
       "      <td>Four</td>\n",
       "      <td>4</td>\n",
       "    </tr>\n",
       "    <tr>\n",
       "      <th>4</th>\n",
       "      <td>Sapiens: A Brief History of Humankind</td>\n",
       "      <td>54.23</td>\n",
       "      <td>In stock</td>\n",
       "      <td>Five</td>\n",
       "      <td>5</td>\n",
       "    </tr>\n",
       "  </tbody>\n",
       "</table>\n",
       "</div>"
      ],
      "text/plain": [
       "                                   title  price availability rating  \\\n",
       "0                   A Light in the Attic  51.77     In stock  Three   \n",
       "1                     Tipping the Velvet  53.74     In stock    One   \n",
       "2                             Soumission  50.10     In stock    One   \n",
       "3                          Sharp Objects  47.82     In stock   Four   \n",
       "4  Sapiens: A Brief History of Humankind  54.23     In stock   Five   \n",
       "\n",
       "   rating_num  \n",
       "0           3  \n",
       "1           1  \n",
       "2           1  \n",
       "3           4  \n",
       "4           5  "
      ]
     },
     "execution_count": 6,
     "metadata": {},
     "output_type": "execute_result"
    }
   ],
   "source": [
    "# Definimos un diccionario que mapea las calificaciones textuales a valores numéricos\n",
    "rating_map = {\n",
    "    \"One\": 1,   # \"One\" se convierte en 1\n",
    "    \"Two\": 2,   # \"Two\" se convierte en 2\n",
    "    \"Three\": 3, # \"Three\" se convierte en 3\n",
    "    \"Four\": 4,  # \"Four\" se convierte en 4\n",
    "    \"Five\": 5   # \"Five\" se convierte en 5\n",
    "}\n",
    "\n",
    "# Se crea una nueva columna 'rating_num' aplicando el mapeo a la columna 'rating'\n",
    "books_df[\"rating_num\"] = books_df[\"rating\"].map(rating_map)\n",
    "\n",
    "print(\"Se ha añadido la columna 'rating_num' con valores numéricos de calificación.\")\n",
    "# Se muestran las primeras filas del DataFrame para confirmar la adición de la nueva columna\n",
    "books_df.head()\n"
   ]
  },
  {
   "cell_type": "code",
   "execution_count": 7,
   "id": "eaf04095-b514-4184-913b-09b51ad52c1c",
   "metadata": {},
   "outputs": [
    {
     "name": "stdout",
     "output_type": "stream",
     "text": [
      "Descripción estadística de los precios de los libros:\n",
      "count    20.000000\n",
      "mean     38.048500\n",
      "std      15.135231\n",
      "min      13.990000\n",
      "25%      22.637500\n",
      "50%      41.380000\n",
      "75%      51.865000\n",
      "max      57.250000\n",
      "Name: price, dtype: float64\n",
      "\n",
      "Conteo de libros por calificación textual:\n",
      "rating\n",
      "One      6\n",
      "Five     4\n",
      "Four     4\n",
      "Three    3\n",
      "Two      3\n",
      "Name: count, dtype: int64\n",
      "\n",
      "Conteo de libros por disponibilidad:\n",
      "availability\n",
      "In stock    20\n",
      "Name: count, dtype: int64\n"
     ]
    }
   ],
   "source": [
    "# Se obtiene una descripción estadística de la columna 'price'\n",
    "price_description = books_df[\"price\"].describe()\n",
    "print(\"Descripción estadística de los precios de los libros:\")\n",
    "print(price_description)\n",
    "\n",
    "# Se cuenta la cantidad de libros para cada calificación textual en la columna 'rating'\n",
    "rating_counts = books_df[\"rating\"].value_counts()\n",
    "print(\"\\nConteo de libros por calificación textual:\")\n",
    "print(rating_counts)\n",
    "\n",
    "# Se cuenta la cantidad de libros según su disponibilidad\n",
    "availability_counts = books_df[\"availability\"].value_counts()\n",
    "print(\"\\nConteo de libros por disponibilidad:\")\n",
    "print(availability_counts)\n"
   ]
  },
  {
   "cell_type": "code",
   "execution_count": 8,
   "id": "f5886458-2143-4495-8c73-b371bce76114",
   "metadata": {},
   "outputs": [
    {
     "data": {
      "image/png": "[encoded data removed]",
      "text/plain": [
       "<Figure size 1000x500 with 1 Axes>"
      ]
     },
     "metadata": {},
     "output_type": "display_data"
    },
    {
     "data": {
      "image/png": "[encoded data removed]",
      "text/plain": [
       "<Figure size 800x400 with 1 Axes>"
      ]
     },
     "metadata": {},
     "output_type": "display_data"
    }
   ],
   "source": [
    "# Configuramos una figura de tamaño 10x5 para el histograma de precios\n",
    "plt.figure(figsize=(10, 5))\n",
    "\n",
    "# Creamos un histograma de la columna 'price' y agregamos una curva de densidad (KDE)\n",
    "sns.histplot(books_df[\"price\"], kde=True, color=\"blue\")  # Histograma con KDE\n",
    "plt.title(\"Distribución de Precios de Libros\")  # Título del gráfico\n",
    "plt.xlabel(\"Precio (£)\")  # Etiqueta del eje X\n",
    "plt.ylabel(\"Frecuencia\")  # Etiqueta del eje Y\n",
    "plt.show()  # Muestra el gráfico\n",
    "\n",
    "# Configuramos otra figura para el gráfico de barras de calificaciones\n",
    "plt.figure(figsize=(8, 4))\n",
    "\n",
    "# Creamos un gráfico de barras para visualizar el conteo de libros por calificación (rating)\n",
    "sns.countplot(\n",
    "    data=books_df, \n",
    "    x=\"rating\", \n",
    "    hue=\"rating\",  # Se usa 'hue' en lugar de 'palette' para evitar la advertencia\n",
    "    order=[\"One\", \"Two\", \"Three\", \"Four\", \"Five\"], \n",
    "    palette=\"viridis\", \n",
    "    legend=False  # Se desactiva la leyenda para evitar redundancia\n",
    ")\n",
    "\n",
    "plt.title(\"Conteo de Libros por Calificación (Rating)\")  # Título del gráfico\n",
    "plt.xlabel(\"Calificación\")  # Etiqueta del eje X\n",
    "plt.ylabel(\"Cantidad de Libros\")  # Etiqueta del eje Y\n",
    "plt.show()  # Muestra el gráfico\n"
   ]
  },
  {
   "cell_type": "code",
   "execution_count": 23,
   "id": "19dd2ed2-6e6d-4ef6-9f13-b4b6fd731e50",
   "metadata": {},
   "outputs": [
    {
     "ename": "SyntaxError",
     "evalue": "invalid syntax (555278778.py, line 3)",
     "output_type": "error",
     "traceback": [
      "\u001b[1;36m  Cell \u001b[1;32mIn[23], line 3\u001b[1;36m\u001b[0m\n\u001b[1;33m    Después de realizar el proceso de **Web Scraping**, transformación y análisis de datos sobre los libros del sitio [Books to Scrape](http://books.toscrape.com/), podemos extraer las siguientes conclusiones:\u001b[0m\n\u001b[1;37m            ^\u001b[0m\n\u001b[1;31mSyntaxError\u001b[0m\u001b[1;31m:\u001b[0m invalid syntax\n"
     ]
    }
   ],
   "source": [
    "# Conclusiones del Análisis\n",
    "\n",
    "Después de realizar el proceso de **Web Scraping**, transformación y análisis de datos sobre los libros del sitio [Books to Scrape](http://books.toscrape.com/), podemos extraer las siguientes conclusiones:\n",
    "\n",
    "## 1. Extracción y Procesamiento de Datos\n",
    "- Se logró extraer información relevante de 20 libros en la página principal.\n",
    "- Los datos extraídos incluyen:\n",
    "  - Títulos\n",
    "  - Precios\n",
    "  - Disponibilidad\n",
    "  - Calificación (rating)\n",
    "- Se realizó una limpieza y transformación de datos, normalizando la información de precios y convirtiendo las calificaciones de texto a valores numéricos.\n",
    "\n",
    "## 2. Distribución de Precios\n",
    "- Los precios de los libros presentan una gran variabilidad, con valores que oscilan aproximadamente entre 10 y 60 GBP.\n",
    "- El precio promedio de los libros en la muestra analizada es de `round(books_df['price'].mean(), 2)` GBP.\n",
    "- La distribución de precios sugiere que la mayoría de los libros tienen un costo accesible, con una tendencia a la concentración en valores intermedios.\n",
    "\n",
    "## 3. Disponibilidad de los Libros\n",
    "- La mayoría de los libros están disponibles en stock (\"In stock\").\n",
    "- Muy pocos libros aparecen con un estado de agotado o con disponibilidad limitada.\n",
    "\n",
    "## 4. Calificación de los Libros\n",
    "- Se identificaron libros con calificaciones que varían desde 1 estrella (One) hasta 5 estrellas (Five).\n",
    "- La distribución de calificaciones muestra que la mayoría de los libros tienen entre 3 y 5 estrellas, lo que indica que la mayoría de los libros tienen una buena valoración por parte de los usuarios.\n",
    "- La calificación más frecuente es \"Three\" o \"Four\" estrellas.\n",
    "\n",
    "## 5. Visualización de Datos y Hallazgos\n",
    "- Se realizaron gráficos para visualizar mejor la información obtenida:\n",
    "  - Histograma de precios: mostró una concentración en valores intermedios con algunas variaciones.\n",
    "  - Gráfico de barras de calificaciones: confirmó que la mayoría de los libros tienen entre 3 y 5 estrellas.\n",
    "\n",
    "## Conclusión Final\n",
    "Este análisis ha permitido demostrar cómo extraer, procesar y analizar datos desde una página web utilizando Python y herramientas como:\n",
    "- BeautifulSoup para el web scraping,\n",
    "- pandas para la manipulación de datos,\n",
    "- matplotlib y seaborn para la visualización de datos.\n",
    "\n",
    "Este proyecto podría extenderse en futuras iteraciones con mejoras como:\n",
    "- Extracción de datos de múltiples páginas (no solo la principal).\n",
    "- Incorporación de más análisis estadísticos sobre precios y calificaciones.\n",
    "- Aplicación de técnicas de procesamiento de lenguaje natural (NLP) para analizar títulos o descripciones de los libros.\n",
    "\n",
    "Este ejercicio es un excelente punto de partida para proyectos de Web Scraping y Análisis de Datos en Python.\n"
   ]
  },
  {
   "cell_type": "code",
   "execution_count": null,
   "id": "75316bbe-4cf0-48f7-90e6-9aa057a39544",
   "metadata": {},
   "outputs": [],
   "source": []
  }
 ],
 "metadata": {
  "kernelspec": {
   "display_name": "Python 3 (ipykernel)",
   "language": "python",
   "name": "python3"
  },
  "language_info": {
   "codemirror_mode": {
    "name": "ipython",
    "version": 3
   },
   "file_extension": ".py",
   "mimetype": "text/x-python",
   "name": "python",
   "nbconvert_exporter": "python",
   "pygments_lexer": "ipython3",
   "version": "3.12.7"
  }
 },
 "nbformat": 4,
 "nbformat_minor": 5
}
